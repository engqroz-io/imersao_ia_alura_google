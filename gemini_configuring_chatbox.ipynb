{
  "nbformat": 4,
  "nbformat_minor": 0,
  "metadata": {
    "colab": {
      "provenance": [],
      "toc_visible": true,
      "authorship_tag": "ABX9TyOmYX1mzizpEVzMxLlTZBxZ",
      "include_colab_link": true
    },
    "kernelspec": {
      "name": "python3",
      "display_name": "Python 3"
    },
    "language_info": {
      "name": "python"
    }
  },
  "cells": [
    {
      "cell_type": "markdown",
      "metadata": {
        "id": "view-in-github",
        "colab_type": "text"
      },
      "source": [
        "<a href=\"https://colab.research.google.com/github/engqroz-io/imersao_ia_alura_google/blob/main/gemini_configuring_chatbox.ipynb\" target=\"_parent\"><img src=\"https://colab.research.google.com/assets/colab-badge.svg\" alt=\"Open In Colab\"/></a>"
      ]
    },
    {
      "cell_type": "markdown",
      "source": [
        "# Desenvolvimento de chatbot"
      ],
      "metadata": {
        "id": "nasm7ouF84kP"
      }
    },
    {
      "cell_type": "markdown",
      "source": [
        "## Instalação da biblioteca para utilização do Gemini"
      ],
      "metadata": {
        "id": "z-eC4HIk8oC6"
      }
    },
    {
      "cell_type": "code",
      "execution_count": null,
      "metadata": {
        "id": "IALq3Kx5yxUR"
      },
      "outputs": [],
      "source": [
        "!pip install -q -U google-generativeai #instala a biblioteca do google para utilização da API Key / Gemini"
      ]
    },
    {
      "cell_type": "markdown",
      "source": [
        "## Configuração da API Key"
      ],
      "metadata": {
        "id": "7upmSpm78ym9"
      }
    },
    {
      "cell_type": "code",
      "source": [
        "import google.generativeai as genai\n",
        "\n",
        "GOOGLE_API_KEY=\"\"\n",
        "genai.configure(api_key=GOOGLE_API_KEY)"
      ],
      "metadata": {
        "id": "N_aWlRzi37wg"
      },
      "execution_count": null,
      "outputs": []
    },
    {
      "cell_type": "code",
      "source": [
        "for m in genai.list_models():\n",
        "  if 'generateContent' in m.supported_generation_methods:\n",
        "    print(m.name) # lista as versões de utilização do Gemini"
      ],
      "metadata": {
        "id": "0UlLfwhN4EVf"
      },
      "execution_count": null,
      "outputs": []
    },
    {
      "cell_type": "markdown",
      "source": [
        "## Versões do **Gemini**\n",
        "* 1.0 PRO - Versão estável\n",
        "* 1.0 PRO 001 - Versão experimental\n",
        "* 1.5 PRO - Maior complexidade de raciocínio e sem safety_settings devido a versão de avaliação\n",
        "* Pro Vision 1.0 -\n",
        "\n",
        "`.latest() --> Aponta para a última versão estável.`"
      ],
      "metadata": {
        "id": "Cm9UutEm5Djk"
      }
    },
    {
      "cell_type": "markdown",
      "source": [
        "## Configurando o modelo"
      ],
      "metadata": {
        "id": "3ViVIXoq9L0_"
      }
    },
    {
      "cell_type": "markdown",
      "source": [
        "### Variáveis de configuração do modelo Gemini."
      ],
      "metadata": {
        "id": "FWRtp4FV9v_m"
      }
    },
    {
      "cell_type": "code",
      "source": [
        "generation_config = {\n",
        "    \"candidate_count\": 1,\n",
        "    # Quanto maior a \"temperature\" mas criativo fica a resposta.\n",
        "    # Parâmetro é entre 0 e 1\n",
        "    \"temperature\": 0.5\n",
        "}"
      ],
      "metadata": {
        "id": "Scc-sDiw4fZQ"
      },
      "execution_count": null,
      "outputs": []
    },
    {
      "cell_type": "markdown",
      "source": [
        "> Quanto maior o parâmetro \"temperature\" mais criativo fica a resposta.:\n",
        "\n",
        "\n"
      ],
      "metadata": {
        "id": "GCsjElM36SwG"
      }
    },
    {
      "cell_type": "code",
      "source": [
        "safety_settings = {\n",
        "    \"HARASSMENT\": \"BLOCK_NONE\",\n",
        "    \"HATE\": \"BLOCK_NONE\",\n",
        "    \"SEXUAL\": \"BLOCK_NONE\",\n",
        "    \"DANGEROUS\": \"BLOCK_NONE\"\n",
        "}"
      ],
      "metadata": {
        "id": "ID8-IKuE67ME"
      },
      "execution_count": null,
      "outputs": []
    },
    {
      "cell_type": "markdown",
      "source": [
        "### Inicializando o modelo"
      ],
      "metadata": {
        "id": "QkS5R-td7tRh"
      }
    },
    {
      "cell_type": "code",
      "source": [
        "model = genai.GenerativeModel(model_name=\"gemini-1.0-pro\",\n",
        "                              generation_config=generation_config,\n",
        "                              safety_settings=safety_settings)"
      ],
      "metadata": {
        "id": "-RNwte9B7ym-"
      },
      "execution_count": null,
      "outputs": []
    },
    {
      "cell_type": "code",
      "source": [
        "response = model.genenate_contet(\"Aprendizado sobre AI. Me dê sugestões.\")\n",
        "print(response.text)"
      ],
      "metadata": {
        "id": "UGV4m4OQ9zcc"
      },
      "execution_count": null,
      "outputs": []
    },
    {
      "cell_type": "code",
      "source": [
        "chat = model.start_chat(history=[])\n",
        "prompt = input(\"Diga ao Gemini...\")\n",
        "\n",
        "while prompt != \"fim\":\n",
        "  response = chat.send_message(prompt)\n",
        "  print(\"Resposta: \" + response.text() + \"\\n\")\n",
        "  prompt = input(\"Continuar? Se não digite 'fim'.\")"
      ],
      "metadata": {
        "id": "028BTIb1-R5J"
      },
      "execution_count": null,
      "outputs": []
    }
  ]
}